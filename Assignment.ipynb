{
    "cells": [
        {
            "cell_type": "markdown",
            "metadata": {
                "collapsed": true
            },
            "source": "# My Jupyter Notebook on IBM Watson Studio"
        },
        {
            "cell_type": "markdown",
            "metadata": {},
            "source": "**this syntax bolds text in markdown**"
        },
        {
            "cell_type": "markdown",
            "metadata": {},
            "source": "*I am interested in data science because it makes me excited everytime I learn new thing about it*"
        },
        {
            "cell_type": "markdown",
            "metadata": {},
            "source": "### The following code tests  the gaussian formula"
        },
        {
            "cell_type": "code",
            "execution_count": 14,
            "metadata": {},
            "outputs": [
                {
                    "data": {
                        "text/plain": "True"
                    },
                    "execution_count": 14,
                    "metadata": {},
                    "output_type": "execute_result"
                }
            ],
            "source": "def gauss(n):\n    return (n*(n+1))/2\ngauss(100) == sum(range(101))"
        },
        {
            "cell_type": "markdown",
            "metadata": {},
            "source": "***\n\n* Here\n* is\n* some\n* important\n* text!\n\n| This | is   |\n|------|------|\n|   a  | table|\n\n***"
        }
    ],
    "metadata": {
        "kernelspec": {
            "display_name": "Python 3.7",
            "language": "python",
            "name": "python3"
        },
        "language_info": {
            "codemirror_mode": {
                "name": "ipython",
                "version": 3
            },
            "file_extension": ".py",
            "mimetype": "text/x-python",
            "name": "python",
            "nbconvert_exporter": "python",
            "pygments_lexer": "ipython3",
            "version": "3.7.10"
        }
    },
    "nbformat": 4,
    "nbformat_minor": 1
}